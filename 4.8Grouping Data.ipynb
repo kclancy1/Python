{
 "cells": [
  {
   "cell_type": "markdown",
   "id": "66c4afa7-1e58-4c3e-a3de-22c913f95858",
   "metadata": {},
   "source": [
    "01. Import Libraries"
   ]
  },
  {
   "cell_type": "code",
   "execution_count": 1,
   "id": "76db4ec3-8ac0-4656-90b3-102581339363",
   "metadata": {},
   "outputs": [],
   "source": [
    "# importing libraries\n",
    "import pandas as pd\n",
    "import numpy as np\n",
    "import os"
   ]
  },
  {
   "cell_type": "code",
   "execution_count": 2,
   "id": "cf50c938-4685-4c83-8faa-aa4da57c4d84",
   "metadata": {},
   "outputs": [],
   "source": [
    "path = r'/Users/kevinclancy/Desktop/Master Folder'"
   ]
  },
  {
   "cell_type": "code",
   "execution_count": 3,
   "id": "e981d80c-89db-44a1-8eda-612497d4d98a",
   "metadata": {},
   "outputs": [
    {
     "ename": "FileNotFoundError",
     "evalue": "[Errno 2] No such file or directory: '/Users/kevinclancy/Desktop/Master Folder/02 Data/Prepared Data/orders_products_merged_derived3.pkl'",
     "output_type": "error",
     "traceback": [
      "\u001b[0;31m---------------------------------------------------------------------------\u001b[0m",
      "\u001b[0;31mFileNotFoundError\u001b[0m                         Traceback (most recent call last)",
      "Cell \u001b[0;32mIn[3], line 2\u001b[0m\n\u001b[1;32m      1\u001b[0m \u001b[38;5;66;03m# importing orders_products_merged_derived\u001b[39;00m\n\u001b[0;32m----> 2\u001b[0m ords_prods_merged \u001b[38;5;241m=\u001b[39m pd\u001b[38;5;241m.\u001b[39mread_pickle(os\u001b[38;5;241m.\u001b[39mpath\u001b[38;5;241m.\u001b[39mjoin(path, \u001b[38;5;124m'\u001b[39m\u001b[38;5;124m02 Data\u001b[39m\u001b[38;5;124m'\u001b[39m, \u001b[38;5;124m'\u001b[39m\u001b[38;5;124mPrepared Data\u001b[39m\u001b[38;5;124m'\u001b[39m, \u001b[38;5;124m'\u001b[39m\u001b[38;5;124morders_products_merged_derived3.pkl\u001b[39m\u001b[38;5;124m'\u001b[39m))\n",
      "File \u001b[0;32m/opt/anaconda3/lib/python3.11/site-packages/pandas/io/pickle.py:189\u001b[0m, in \u001b[0;36mread_pickle\u001b[0;34m(filepath_or_buffer, compression, storage_options)\u001b[0m\n\u001b[1;32m    125\u001b[0m \u001b[38;5;250m\u001b[39m\u001b[38;5;124;03m\"\"\"\u001b[39;00m\n\u001b[1;32m    126\u001b[0m \u001b[38;5;124;03mLoad pickled pandas object (or any object) from file.\u001b[39;00m\n\u001b[1;32m    127\u001b[0m \n\u001b[0;32m   (...)\u001b[0m\n\u001b[1;32m    186\u001b[0m \u001b[38;5;124;03m4    4    9\u001b[39;00m\n\u001b[1;32m    187\u001b[0m \u001b[38;5;124;03m\"\"\"\u001b[39;00m\n\u001b[1;32m    188\u001b[0m excs_to_catch \u001b[38;5;241m=\u001b[39m (\u001b[38;5;167;01mAttributeError\u001b[39;00m, \u001b[38;5;167;01mImportError\u001b[39;00m, \u001b[38;5;167;01mModuleNotFoundError\u001b[39;00m, \u001b[38;5;167;01mTypeError\u001b[39;00m)\n\u001b[0;32m--> 189\u001b[0m \u001b[38;5;28;01mwith\u001b[39;00m get_handle(\n\u001b[1;32m    190\u001b[0m     filepath_or_buffer,\n\u001b[1;32m    191\u001b[0m     \u001b[38;5;124m\"\u001b[39m\u001b[38;5;124mrb\u001b[39m\u001b[38;5;124m\"\u001b[39m,\n\u001b[1;32m    192\u001b[0m     compression\u001b[38;5;241m=\u001b[39mcompression,\n\u001b[1;32m    193\u001b[0m     is_text\u001b[38;5;241m=\u001b[39m\u001b[38;5;28;01mFalse\u001b[39;00m,\n\u001b[1;32m    194\u001b[0m     storage_options\u001b[38;5;241m=\u001b[39mstorage_options,\n\u001b[1;32m    195\u001b[0m ) \u001b[38;5;28;01mas\u001b[39;00m handles:\n\u001b[1;32m    196\u001b[0m     \u001b[38;5;66;03m# 1) try standard library Pickle\u001b[39;00m\n\u001b[1;32m    197\u001b[0m     \u001b[38;5;66;03m# 2) try pickle_compat (older pandas version) to handle subclass changes\u001b[39;00m\n\u001b[1;32m    198\u001b[0m     \u001b[38;5;66;03m# 3) try pickle_compat with latin-1 encoding upon a UnicodeDecodeError\u001b[39;00m\n\u001b[1;32m    200\u001b[0m     \u001b[38;5;28;01mtry\u001b[39;00m:\n\u001b[1;32m    201\u001b[0m         \u001b[38;5;66;03m# TypeError for Cython complaints about object.__new__ vs Tick.__new__\u001b[39;00m\n\u001b[1;32m    202\u001b[0m         \u001b[38;5;28;01mtry\u001b[39;00m:\n",
      "File \u001b[0;32m/opt/anaconda3/lib/python3.11/site-packages/pandas/io/common.py:872\u001b[0m, in \u001b[0;36mget_handle\u001b[0;34m(path_or_buf, mode, encoding, compression, memory_map, is_text, errors, storage_options)\u001b[0m\n\u001b[1;32m    863\u001b[0m         handle \u001b[38;5;241m=\u001b[39m \u001b[38;5;28mopen\u001b[39m(\n\u001b[1;32m    864\u001b[0m             handle,\n\u001b[1;32m    865\u001b[0m             ioargs\u001b[38;5;241m.\u001b[39mmode,\n\u001b[0;32m   (...)\u001b[0m\n\u001b[1;32m    868\u001b[0m             newline\u001b[38;5;241m=\u001b[39m\u001b[38;5;124m\"\u001b[39m\u001b[38;5;124m\"\u001b[39m,\n\u001b[1;32m    869\u001b[0m         )\n\u001b[1;32m    870\u001b[0m     \u001b[38;5;28;01melse\u001b[39;00m:\n\u001b[1;32m    871\u001b[0m         \u001b[38;5;66;03m# Binary mode\u001b[39;00m\n\u001b[0;32m--> 872\u001b[0m         handle \u001b[38;5;241m=\u001b[39m \u001b[38;5;28mopen\u001b[39m(handle, ioargs\u001b[38;5;241m.\u001b[39mmode)\n\u001b[1;32m    873\u001b[0m     handles\u001b[38;5;241m.\u001b[39mappend(handle)\n\u001b[1;32m    875\u001b[0m \u001b[38;5;66;03m# Convert BytesIO or file objects passed with an encoding\u001b[39;00m\n",
      "\u001b[0;31mFileNotFoundError\u001b[0m: [Errno 2] No such file or directory: '/Users/kevinclancy/Desktop/Master Folder/02 Data/Prepared Data/orders_products_merged_derived3.pkl'"
     ]
    }
   ],
   "source": [
    "# importing orders_products_merged_derived\n",
    "ords_prods_merged = pd.read_pickle(os.path.join(path, '02 Data', 'Prepared Data', 'orders_products_merged_derived3.pkl'))"
   ]
  },
  {
   "cell_type": "code",
   "execution_count": null,
   "id": "5511ad0e-0e82-4ffd-a3da-aaec9c865f4c",
   "metadata": {},
   "outputs": [],
   "source": [
    "# aggregated mean of entire dataframe\n",
    "ords_prods_merged.groupby('department_id').agg({'order_number': ['mean']})"
   ]
  },
  {
   "cell_type": "markdown",
   "id": "794cf0f9-fc7d-4de1-9041-646c6012eec7",
   "metadata": {},
   "source": [
    "There are 21 department ids in the full dataframe compared to only 8 in the subset of the df. Also the means have changed. For example in the subset version department id \"4\" had a mean of 18.825780, where as in the entire dataframe version the mean of department id \"4\" is 17.811403"
   ]
  },
  {
   "cell_type": "code",
   "execution_count": null,
   "id": "3cfa522f-33bd-41f6-8d7d-e569440e2f24",
   "metadata": {},
   "outputs": [],
   "source": [
    "# create new max_order column\n",
    "ords_prods_merged['max_order'] = ords_prods_merged.groupby(['user_id'])['order_number'].transform(np.max)"
   ]
  },
  {
   "cell_type": "code",
   "execution_count": null,
   "id": "afc9a3f8-6e8f-48ef-ae8e-b944ba59078a",
   "metadata": {
    "scrolled": true
   },
   "outputs": [],
   "source": [
    "# check output\n",
    "ords_prods_merged.head(10)"
   ]
  },
  {
   "cell_type": "code",
   "execution_count": null,
   "id": "c920086d-03b2-4c67-98fe-b58e7f9adbcd",
   "metadata": {},
   "outputs": [],
   "source": [
    "# assign loyalty flag\n",
    "ords_prods_merged.loc[ords_prods_merged['max_order'] > 40, 'loyalty_flag'] = 'Loyal customer'"
   ]
  },
  {
   "cell_type": "code",
   "execution_count": null,
   "id": "e3c98c9c-737d-4d04-959e-afbbbf56f7cf",
   "metadata": {},
   "outputs": [],
   "source": [
    "ords_prods_merged.loc[(ords_prods_merged['max_order'] <= 40) & (ords_prods_merged['max_order'] > 10), 'loyalty_flag'] = 'Regular customer'"
   ]
  },
  {
   "cell_type": "code",
   "execution_count": null,
   "id": "b00b5db1-15e5-405c-84cd-9727cde02a6a",
   "metadata": {},
   "outputs": [],
   "source": [
    "ords_prods_merged.loc[ords_prods_merged['max_order'] <= 10, 'loyalty_flag'] = 'New customer'"
   ]
  },
  {
   "cell_type": "code",
   "execution_count": null,
   "id": "c4c2357c-79a2-4be2-ae4d-029390d743dd",
   "metadata": {},
   "outputs": [],
   "source": [
    "# check counts\n",
    "ords_prods_merged['loyalty_flag'].value_counts(dropna = False)"
   ]
  },
  {
   "cell_type": "code",
   "execution_count": null,
   "id": "4ac40d22-6ea5-47b7-bbae-dce467c1010a",
   "metadata": {},
   "outputs": [],
   "source": [
    "# check basic statistics of product prices for each loyalty category\n",
    "ords_prods_merged.groupby('loyalty_flag').agg({'prices': ['mean', 'min', 'max']})"
   ]
  },
  {
   "cell_type": "code",
   "execution_count": null,
   "id": "32bffd68-79c3-4cc2-ad58-a055ac8456d6",
   "metadata": {},
   "outputs": [],
   "source": [
    "# create new column for average spend\n",
    "ords_prods_merged['average_spend'] = ords_prods_merged.groupby(['user_id'])['prices'].transform(np.mean)"
   ]
  },
  {
   "cell_type": "code",
   "execution_count": null,
   "id": "3ec47f20-b200-42a4-9f17-ccb0849ae573",
   "metadata": {},
   "outputs": [],
   "source": [
    "# check output \n",
    "ords_prods_merged.head()"
   ]
  },
  {
   "cell_type": "code",
   "execution_count": null,
   "id": "db8158d8-da2c-4ad0-b4de-2ba6f0bea97c",
   "metadata": {},
   "outputs": [],
   "source": [
    "# create flags for spenders\n",
    "ords_prods_merged.loc[ords_prods_merged['average_spend'] < 10, 'spend_flag'] = 'Low Spender'"
   ]
  },
  {
   "cell_type": "code",
   "execution_count": null,
   "id": "099d593d-182e-4477-ae3b-e41e59953c05",
   "metadata": {},
   "outputs": [],
   "source": [
    "ords_prods_merged.loc[ords_prods_merged['average_spend'] >= 10, 'spend_flag'] = 'High Spender'"
   ]
  },
  {
   "cell_type": "code",
   "execution_count": null,
   "id": "ab6ad68a-5965-4e7b-88db-9c6c89df406e",
   "metadata": {},
   "outputs": [],
   "source": [
    "# check output\n",
    "ords_prods_merged['spend_flag'].value_counts(dropna = False)"
   ]
  },
  {
   "cell_type": "code",
   "execution_count": null,
   "id": "c0b20673-a63e-48ae-a422-f9e4744356c1",
   "metadata": {},
   "outputs": [],
   "source": [
    "ords_prods_merged[['user_id', 'average_spend', 'spend_flag', 'prices']].head(25)"
   ]
  },
  {
   "cell_type": "code",
   "execution_count": null,
   "id": "5f51e4ca-a13c-46c1-a7d4-964585b8a3b8",
   "metadata": {},
   "outputs": [],
   "source": [
    "# create new column for frequent customers (days_since_prior_order was renamed \"last_order\" in a previous exercise)\n",
    "ords_prods_merged['frequent_customer'] = ords_prods_merged.groupby(['user_id'])['last_order'].transform(np.median)"
   ]
  },
  {
   "cell_type": "code",
   "execution_count": null,
   "id": "b105b67f-3a56-4db5-a6f1-d9ee06859f82",
   "metadata": {},
   "outputs": [],
   "source": [
    "# check output\n",
    "ords_prods_merged.head()"
   ]
  },
  {
   "cell_type": "code",
   "execution_count": null,
   "id": "bcae0073-54f8-4183-bac3-1fa238cd04ac",
   "metadata": {},
   "outputs": [],
   "source": [
    "# create flag on customer frequency\n",
    "ords_prods_merged.loc[ords_prods_merged['frequent_customer'] > 20, 'frequency_flag'] = 'Non Frequent Customer'"
   ]
  },
  {
   "cell_type": "code",
   "execution_count": null,
   "id": "a90406f7-d94a-4806-9d12-d39e2e94ea81",
   "metadata": {},
   "outputs": [],
   "source": [
    "ords_prods_merged.loc[(ords_prods_merged['frequent_customer'] > 10) & (ords_prods_merged['frequent_customer']<= 20), 'frequency_flag'] = 'Regular Customer'"
   ]
  },
  {
   "cell_type": "code",
   "execution_count": null,
   "id": "b506cf65-79d7-4667-9976-570cede61a77",
   "metadata": {},
   "outputs": [],
   "source": [
    "ords_prods_merged.loc[ords_prods_merged['frequent_customer'] <= 10, 'frequency_flag'] = 'Frequent Customer'"
   ]
  },
  {
   "cell_type": "code",
   "execution_count": null,
   "id": "20360a0d-7153-4161-ab98-7630fd34bb10",
   "metadata": {},
   "outputs": [],
   "source": [
    "# check counts\n",
    "ords_prods_merged['frequency_flag'].value_counts(dropna = False)"
   ]
  },
  {
   "cell_type": "code",
   "execution_count": null,
   "id": "2b699141-cf58-4328-a366-fa63bafeaab1",
   "metadata": {},
   "outputs": [],
   "source": [
    "ords_prods_merged.to_pickle(os.path.join(path, '02 Data', 'Prepared Data', 'ords_prods_merged_agg.pkl'))"
   ]
  },
  {
   "cell_type": "code",
   "execution_count": null,
   "id": "92470c0e-c0b5-46d7-a529-473fd4f02e9b",
   "metadata": {},
   "outputs": [],
   "source": []
  }
 ],
 "metadata": {
  "kernelspec": {
   "display_name": "Python 3 (ipykernel)",
   "language": "python",
   "name": "python3"
  },
  "language_info": {
   "codemirror_mode": {
    "name": "ipython",
    "version": 3
   },
   "file_extension": ".py",
   "mimetype": "text/x-python",
   "name": "python",
   "nbconvert_exporter": "python",
   "pygments_lexer": "ipython3",
   "version": "3.11.7"
  }
 },
 "nbformat": 4,
 "nbformat_minor": 5
}
